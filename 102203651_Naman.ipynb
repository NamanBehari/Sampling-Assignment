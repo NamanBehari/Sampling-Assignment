{
  "nbformat": 4,
  "nbformat_minor": 0,
  "metadata": {
    "colab": {
      "provenance": []
    },
    "kernelspec": {
      "name": "python3",
      "display_name": "Python 3"
    },
    "language_info": {
      "name": "python"
    }
  },
  "cells": [
    {
      "cell_type": "code",
      "execution_count": 12,
      "metadata": {
        "id": "25nlQYvntR1Z"
      },
      "outputs": [],
      "source": [
        "import pandas as pd\n",
        "from sklearn.model_selection import train_test_split\n",
        "from sklearn.metrics import accuracy_score\n",
        "from sklearn.linear_model import LogisticRegression\n",
        "from sklearn.ensemble import RandomForestClassifier\n",
        "from sklearn.tree import DecisionTreeClassifier\n",
        "from sklearn.naive_bayes import GaussianNB\n",
        "from sklearn.svm import SVC\n",
        "from imblearn.over_sampling import SMOTE\n",
        "from sklearn.utils import resample\n",
        "import numpy as np\n",
        "\n",
        "\n",
        "credit_card_data = pd.read_csv('Creditcard_data.csv')\n",
        "\n",
        "\n",
        "features = credit_card_data.drop(columns=[\"Class\"])\n",
        "labels = credit_card_data[\"Class\"]\n",
        "\n",
        "\n",
        "smote_resampler = SMOTE(random_state=42)\n",
        "balanced_features, balanced_labels = smote_resampler.fit_resample(features, labels)\n"
      ]
    },
    {
      "cell_type": "code",
      "source": [
        "\n",
        "def random_sample(features, labels, sample_size):\n",
        "    return resample(features, labels, n_samples=sample_size, random_state=42)\n",
        "\n",
        "def stratified_sample(features, labels, sample_size):\n",
        "    from sklearn.model_selection import StratifiedShuffleSplit\n",
        "    strat_split = StratifiedShuffleSplit(n_splits=1, test_size=sample_size / len(labels), random_state=42)\n",
        "    for train_idx, _ in strat_split.split(features, labels):\n",
        "        return features.iloc[train_idx], labels.iloc[train_idx]\n"
      ],
      "metadata": {
        "id": "yj7Jupsi3vRf"
      },
      "execution_count": 13,
      "outputs": []
    },
    {
      "cell_type": "code",
      "source": [
        "\n",
        "sample_sizes = [int(len(balanced_features) * 0.1 * i) for i in range(1, 6)]\n",
        "\n",
        "\n",
        "sampling_methods = {\n",
        "    \"Sample1\": random_sample(balanced_features, balanced_labels, sample_sizes[0]),\n",
        "    \"Sample2\": random_sample(balanced_features, balanced_labels, sample_sizes[1]),\n",
        "    \"Sample3\": stratified_sample(balanced_features, balanced_labels, sample_sizes[2]),\n",
        "    \"Sample4\": random_sample(balanced_features, balanced_labels, sample_sizes[3]),\n",
        "    \"Sample5\": stratified_sample(balanced_features, balanced_labels, sample_sizes[4]),\n",
        "}\n"
      ],
      "metadata": {
        "id": "cGFes0c03xJu"
      },
      "execution_count": 14,
      "outputs": []
    },
    {
      "cell_type": "code",
      "source": [
        "\n",
        "classifiers = {\n",
        "    \"LogReg\": LogisticRegression(),\n",
        "    \"RandForest\": RandomForestClassifier(),\n",
        "    \"DecTree\": DecisionTreeClassifier(),\n",
        "    \"NaiveBayes\": GaussianNB(),\n",
        "    \"SVM\": SVC()\n",
        "}\n"
      ],
      "metadata": {
        "id": "30_a18mT4O2h"
      },
      "execution_count": 15,
      "outputs": []
    },
    {
      "cell_type": "code",
      "source": [
        "\n",
        "evaluation_results = pd.DataFrame(columns=[\"Sample\", \"Classifier\", \"Accuracy\"])\n",
        "\n",
        "\n",
        "for sample_label, (X_sample, y_sample) in sampling_methods.items():\n",
        "\n",
        "    X_train, X_test, y_train, y_test = train_test_split(X_sample, y_sample, test_size=0.2, random_state=42)\n",
        "\n",
        "    for model_label, model in classifiers.items():\n",
        "\n",
        "        model.fit(X_train, y_train)\n",
        "\n",
        "\n",
        "        predictions = model.predict(X_test)\n",
        "        acc = accuracy_score(y_test, predictions)\n",
        "\n",
        "\n",
        "        evaluation_results = pd.concat([\n",
        "            evaluation_results,\n",
        "            pd.DataFrame([{\"Sample\": sample_label, \"Classifier\": model_label, \"Accuracy\": acc}])\n",
        "        ], ignore_index=True)\n"
      ],
      "metadata": {
        "collapsed": true,
        "id": "KgsVvOC94Rks"
      },
      "execution_count": null,
      "outputs": []
    },
    {
      "cell_type": "code",
      "source": [
        "\n",
        "evaluation_results.to_csv('sampling_model_results.csv', index=False)\n",
        "\n",
        "\n",
        "print(\"Results saved to 'sampling_model_results.csv'\")\n"
      ],
      "metadata": {
        "colab": {
          "base_uri": "https://localhost:8080/"
        },
        "id": "vHm7JjyQ7Jsf",
        "outputId": "ec51caab-4318-4620-a75a-8a7f6a32e8c1"
      },
      "execution_count": 17,
      "outputs": [
        {
          "output_type": "stream",
          "name": "stdout",
          "text": [
            "Results saved to 'sampling_model_results.csv'\n"
          ]
        }
      ]
    },
    {
      "cell_type": "code",
      "source": [
        "from google.colab import files\n",
        "\n",
        "\n",
        "files.download('sampling_model_results.csv')\n"
      ],
      "metadata": {
        "colab": {
          "base_uri": "https://localhost:8080/",
          "height": 17
        },
        "id": "s5WonlvQ4T2m",
        "outputId": "c53c53ce-55ee-4b30-dd80-ae600383b652"
      },
      "execution_count": 18,
      "outputs": [
        {
          "output_type": "display_data",
          "data": {
            "text/plain": [
              "<IPython.core.display.Javascript object>"
            ],
            "application/javascript": [
              "\n",
              "    async function download(id, filename, size) {\n",
              "      if (!google.colab.kernel.accessAllowed) {\n",
              "        return;\n",
              "      }\n",
              "      const div = document.createElement('div');\n",
              "      const label = document.createElement('label');\n",
              "      label.textContent = `Downloading \"${filename}\": `;\n",
              "      div.appendChild(label);\n",
              "      const progress = document.createElement('progress');\n",
              "      progress.max = size;\n",
              "      div.appendChild(progress);\n",
              "      document.body.appendChild(div);\n",
              "\n",
              "      const buffers = [];\n",
              "      let downloaded = 0;\n",
              "\n",
              "      const channel = await google.colab.kernel.comms.open(id);\n",
              "      // Send a message to notify the kernel that we're ready.\n",
              "      channel.send({})\n",
              "\n",
              "      for await (const message of channel.messages) {\n",
              "        // Send a message to notify the kernel that we're ready.\n",
              "        channel.send({})\n",
              "        if (message.buffers) {\n",
              "          for (const buffer of message.buffers) {\n",
              "            buffers.push(buffer);\n",
              "            downloaded += buffer.byteLength;\n",
              "            progress.value = downloaded;\n",
              "          }\n",
              "        }\n",
              "      }\n",
              "      const blob = new Blob(buffers, {type: 'application/binary'});\n",
              "      const a = document.createElement('a');\n",
              "      a.href = window.URL.createObjectURL(blob);\n",
              "      a.download = filename;\n",
              "      div.appendChild(a);\n",
              "      a.click();\n",
              "      div.remove();\n",
              "    }\n",
              "  "
            ]
          },
          "metadata": {}
        },
        {
          "output_type": "display_data",
          "data": {
            "text/plain": [
              "<IPython.core.display.Javascript object>"
            ],
            "application/javascript": [
              "download(\"download_86908249-4e1b-4a88-8092-af1e6d6b34ea\", \"sampling_model_results.csv\", 846)"
            ]
          },
          "metadata": {}
        }
      ]
    }
  ]
}
